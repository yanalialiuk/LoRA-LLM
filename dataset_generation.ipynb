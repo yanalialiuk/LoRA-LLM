{
 "cells": [
  {
   "cell_type": "code",
   "execution_count": null,
   "metadata": {},
   "outputs": [],
   "source": [
    "import os\n",
    "from openai import OpenAI\n",
    "import json\n",
    "import random\n",
    "import time"
   ]
  },
  {
   "cell_type": "code",
   "execution_count": null,
   "metadata": {},
   "outputs": [],
   "source": [
    "class APICaller:\n",
    "    def __init__(self, api_key, endpoint):\n",
    "        self.client = OpenAI(\n",
    "            api_key=api_key, \n",
    "            base_url=endpoint,\n",
    "        )\n",
    "\n",
    "    def call_llm(self, system_prompt, user_prompt, max_tokens=500, temperature=0.5):\n",
    "        try:\n",
    "            response = self.client.chat.completions.create(\n",
    "                model=\"gpt-4o\",\n",
    "                messages=[\n",
    "                    {\"role\": \"system\", \"content\": system_prompt},\n",
    "                    {\"role\": \"user\", \"content\": user_prompt}\n",
    "                ],\n",
    "                max_tokens=max_tokens, \n",
    "                temperature=temperature,\n",
    "            )\n",
    "            return response.choices[0].message.content.strip()\n",
    "        except Exception as e:\n",
    "            print(f\"Ошибка вызова API: {e}\")\n",
    "            return None"
   ]
  },
  {
   "cell_type": "code",
   "execution_count": null,
   "metadata": {},
   "outputs": [],
   "source": [
    "api_key = \"\"\n",
    "endpoint = \"\"\n",
    "api_caller = APICaller(api_key, endpoint)"
   ]
  },
  {
   "cell_type": "code",
   "execution_count": null,
   "metadata": {},
   "outputs": [],
   "source": [
    "dataset_file = \"pirates_dataset_dynamic.jsonl\"\n",
    "\n",
    "dataset = set()\n",
    "if os.path.exists(dataset_file):\n",
    "    with open(dataset_file, \"r\", encoding=\"utf-8\") as f:\n",
    "        dataset = {json.loads(line)[\"prompt\"] for line in f.readlines()}\n",
    "\n",
    "topics = [\n",
    "    \"Джек Воробей\", \"Гектор Барбосса\", \"Дэйви Джонс\", \"Уилл Тёрнер\", \"Элизабет Суонн\",\n",
    "    \"Тиа Дальма\", \"Чёрная Борода\", \"Летучий Голландец\", \"Чёрная Жемчужина\", \"Кодекс пиратов\",\n",
    "    \"Проклятие ацтекского золота\", \"Сундук Дэйви Джонса\", \"Ост-Индская торговая компания\",\n",
    "    \"Лорд Беккет\", \"Морской Совет пиратов\", \"Калипсо\", \"Судьба пиратов после войны\",\n",
    "    \"Рождение Дэйви Джонса\", \"Происхождение Чёрной Бороды\", \"Пираты Карибского моря и реальная история\",\n",
    "    \"Секреты компаса Джека Воробья\", \"Что случилось с Капитаном Тигом\", \n",
    "    \"Как Барбосса нашёл Чёрную Жемчужину после воскрешения\",\n",
    "    \"Отношения Джека Воробья и Энджелики\", \"Карта, ведущая к Фонтану молодости\",\n",
    "    \"Как создавались Пираты Карибского моря\", \"Какие корабли были у пиратов\",\n",
    "    \"Скрытые детали в фильмах\", \"Какие реальные пираты вдохновили создателей\",\n",
    "    \"Как создавались костюмы и реквизит\", \"Как менялся образ Джека Воробья в фильмах\"\n",
    "]"
   ]
  },
  {
   "cell_type": "code",
   "execution_count": null,
   "metadata": {},
   "outputs": [],
   "source": [
    "system_prompt = \"Ты — эксперт по вселенной 'Пираты Карибского моря'. Генерируй новый, уникальный вопрос по вселенной, избегая повторов. Вопросы должны быть детализированными.\"\n",
    "\n",
    "num_questions_to_generate = 500 \n",
    "generated_count = 0\n",
    "\n",
    "with open(dataset_file, \"a\", encoding=\"utf-8\") as f: \n",
    "    for _ in range(num_questions_to_generate):\n",
    "        topic = random.choice(topics)\n",
    "        user_prompt = f\"Придумай уникальный, сложный вопрос о {topic} во вселенной 'Пираты Карибского моря'. Избегай общих вопросов.\"\n",
    "\n",
    "        question = api_caller.call_llm(system_prompt, user_prompt)\n",
    "        \n",
    "        if question and question not in dataset:\n",
    "            dataset.add(question)\n",
    "\n",
    "            answer = api_caller.call_llm(system_prompt, f\"Ответь кратко и чётко на вопрос: {question}\")\n",
    "\n",
    "            if answer:\n",
    "                new_entry = {\"prompt\": question, \"response\": answer}\n",
    "                f.write(json.dumps(new_entry, ensure_ascii=False) + \"\\n\") \n",
    "                generated_count += 1\n",
    "                print(f\"✅ Добавлен новый вопрос ({generated_count}/{num_questions_to_generate}): {question}\")\n",
    "\n",
    "        if generated_count >= num_questions_to_generate:\n",
    "            break"
   ]
  }
 ],
 "metadata": {
  "kernelspec": {
   "display_name": ".venv",
   "language": "python",
   "name": "python3"
  },
  "language_info": {
   "codemirror_mode": {
    "name": "ipython",
    "version": 3
   },
   "file_extension": ".py",
   "mimetype": "text/x-python",
   "name": "python",
   "nbconvert_exporter": "python",
   "pygments_lexer": "ipython3",
   "version": "3.12.3"
  }
 },
 "nbformat": 4,
 "nbformat_minor": 2
}
